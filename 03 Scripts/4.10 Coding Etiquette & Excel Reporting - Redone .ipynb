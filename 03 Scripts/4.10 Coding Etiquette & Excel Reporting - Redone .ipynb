{
 "cells": [
  {
   "cell_type": "markdown",
   "id": "b4b86422",
   "metadata": {},
   "source": [
    "The objective of this script is to rerun the necessary analyses using this cleaned dataframe. \n",
    "\n",
    "\n",
    "The cleaned dataframe (instacart_LAST_2) was prepared through correcting anomalies in the 'prices' column of instacart_LAST dataframe.\n",
    "\n",
    "\n",
    "The specific anomaly addressed is the presence of unusually high values (greater than 100) in the 'prices' column, which are not realistic for the context of this dataset."
   ]
  },
  {
   "cell_type": "markdown",
   "id": "a18c96f2",
   "metadata": {},
   "source": [
    "### Data Cleaning Steps for instacart_LAST dataframe\n",
    "\n",
    "Identifying and Correcting Anomalies in 'prices' column:\n",
    "\n",
    "The 'prices' column was inspected for values greater than 100, which were deemed unrealistic.\n",
    "\n",
    "These anomalous values were converted to NaN (Not a Number) to exclude them from the analysis.\n",
    "\n",
    "The code used for this operation:\n",
    "\n",
    "instacart_LAST.loc[instacart_LAST['prices'] > 100, 'prices'] = np.nan\n",
    "\n",
    "Exporting the Cleaned DataFrame:\n",
    "\n",
    "After cleaning the data, the updated DataFrame was exported as instacart_LAST_2 for use in subsequent analyses."
   ]
  },
  {
   "cell_type": "markdown",
   "id": "d05dc97c",
   "metadata": {},
   "source": [
    "### Next steps\n",
    "\n",
    "The cleaned DataFrame (instacart_LAST_2) will be used to rerun the necessary analyses. These analyses specifically include those that involve the 'prices' column. By ensuring that the 'prices' column contains realistic values, we enhance the accuracy and reliability of our results. This step is crucial as any analysis involving 'prices' directly influences the insights and decisions derived from the dataset.\n",
    "\n",
    "By implementing this data cleaning step and exporting the cleaned DataFrame, we improve the quality and integrity of our dataset, thereby enhancing the overall validity of our subsequent analyses."
   ]
  },
  {
   "cell_type": "markdown",
   "id": "d1e1beec",
   "metadata": {},
   "source": [
    "## This notebook contains the following:"
   ]
  },
  {
   "cell_type": "markdown",
   "id": "ea7c5697",
   "metadata": {},
   "source": [
    "### 1. Importing libraries and data"
   ]
  },
  {
   "cell_type": "markdown",
   "id": "433a7845",
   "metadata": {},
   "source": [
    "### 2. Checking the new dataframe and creating a new dataframe with only relevant columns"
   ]
  },
  {
   "cell_type": "markdown",
   "id": "4b331f7d",
   "metadata": {},
   "source": [
    "### 3. Determining whether there’s a difference in spending habits between the different U.S. regions"
   ]
  },
  {
   "cell_type": "markdown",
   "id": "1731aac2",
   "metadata": {},
   "source": [
    "### 4. Aggregate the max, mean, and min variables on a customer-profile level for usage frequency and expenditure\n",
    "\n",
    "4.1 Aggregating by generation\n",
    "\n",
    "4.2 Aggregating by income\n",
    "\n",
    "4.3 Aggregating by dependant status"
   ]
  },
  {
   "cell_type": "markdown",
   "id": "924c8745",
   "metadata": {},
   "source": [
    "### 5. Are there differences in ordering habits based on a customers' loyalty status?\n",
    "\n",
    "5.1 Distribution of loyalty groups"
   ]
  },
  {
   "cell_type": "markdown",
   "id": "e912bd95",
   "metadata": {},
   "source": [
    "### 6. Are there differences in ordering habits based on a customer's region?\n",
    "\n",
    "6.1 Distribution of regions"
   ]
  },
  {
   "cell_type": "markdown",
   "id": "ce985d36",
   "metadata": {},
   "source": []
  },
  {
   "cell_type": "markdown",
   "id": "2905dd03",
   "metadata": {},
   "source": [
    "### 1. Importing libraries and data"
   ]
  },
  {
   "cell_type": "code",
   "execution_count": 1,
   "id": "d9451b87",
   "metadata": {},
   "outputs": [],
   "source": [
    "#Importing libraries\n",
    "import pandas as pd\n",
    "import numpy as np\n",
    "import os\n",
    "import matplotlib.pyplot as plt\n",
    "import seaborn as sns\n",
    "from matplotlib.ticker import FuncFormatter"
   ]
  },
  {
   "cell_type": "code",
   "execution_count": 2,
   "id": "35ed2000",
   "metadata": {},
   "outputs": [],
   "source": [
    "#Creating a path\n",
    "path = r'/Users/buketoztekin/Documents/Instacart Basket Analysis/'"
   ]
  },
  {
   "cell_type": "code",
   "execution_count": 3,
   "id": "4e8f66de",
   "metadata": {},
   "outputs": [],
   "source": [
    "#Importing data\n",
    "file_path = os.path.join(path, '02 Data', 'Prepared Data', 'instacart_LAST_2.pkl')\n",
    "instacart_LAST_2 = pd.read_pickle(file_path)"
   ]
  },
  {
   "cell_type": "markdown",
   "id": "137cad53",
   "metadata": {},
   "source": [
    "### 2. Checking the new dataframe and creating a new dataframe with only relevant columns"
   ]
  },
  {
   "cell_type": "code",
   "execution_count": 4,
   "id": "ef9000f7",
   "metadata": {},
   "outputs": [
    {
     "data": {
      "text/plain": [
       "count    3.095969e+07\n",
       "mean     7.790590e+00\n",
       "std      4.240595e+00\n",
       "min      1.000000e+00\n",
       "25%      4.200000e+00\n",
       "50%      7.400000e+00\n",
       "75%      1.130000e+01\n",
       "max      2.500000e+01\n",
       "Name: prices, dtype: float64"
      ]
     },
     "execution_count": 4,
     "metadata": {},
     "output_type": "execute_result"
    }
   ],
   "source": [
    "#Check 'prices' column\n",
    "instacart_LAST_2['prices'].describe()"
   ]
  },
  {
   "cell_type": "code",
   "execution_count": 5,
   "id": "93e7cb8f",
   "metadata": {},
   "outputs": [
    {
     "name": "stdout",
     "output_type": "stream",
     "text": [
      "Index(['user_id', 'gender', 'state', 'age', 'date_joined',\n",
      "       'number_of_dependants', 'family_status', 'income', 'product_id',\n",
      "       'product_name', 'aisle_id', 'department_id', 'prices', 'order_id',\n",
      "       'order_number', 'order_day_of_week', 'order_hour_of_day',\n",
      "       'days_since_prior_order', 'add_to_cart_order', 'reordered', '_merge',\n",
      "       'merge_indicator', 'price_range_loc', 'busiest_day', 'busiest_days',\n",
      "       'busiest_period_of_day', 'max_order', 'loyalty_flag',\n",
      "       'average_spending', 'spender_flag', 'purchase_frequency',\n",
      "       'frequency_flag', 'region', 'exclusion_flag', 'generation',\n",
      "       'income_group', 'department', 'category', 'dependants_flag'],\n",
      "      dtype='object')\n"
     ]
    }
   ],
   "source": [
    "print(instacart_LAST_2.columns)"
   ]
  },
  {
   "cell_type": "code",
   "execution_count": 6,
   "id": "cd271b84",
   "metadata": {},
   "outputs": [],
   "source": [
    "# Create a new dataframe with only relevant columns\n",
    "user_sample = instacart_LAST_2[['user_id', 'generation', 'income_group', 'department', 'category', 'dependants_flag', 'region', 'loyalty_flag', 'spender_flag', 'prices', 'days_since_prior_order', 'max_order', 'order_number' ]]"
   ]
  },
  {
   "cell_type": "code",
   "execution_count": 7,
   "id": "d2ee4a8e",
   "metadata": {},
   "outputs": [
    {
     "data": {
      "text/html": [
       "<div>\n",
       "<style scoped>\n",
       "    .dataframe tbody tr th:only-of-type {\n",
       "        vertical-align: middle;\n",
       "    }\n",
       "\n",
       "    .dataframe tbody tr th {\n",
       "        vertical-align: top;\n",
       "    }\n",
       "\n",
       "    .dataframe thead th {\n",
       "        text-align: right;\n",
       "    }\n",
       "</style>\n",
       "<table border=\"1\" class=\"dataframe\">\n",
       "  <thead>\n",
       "    <tr style=\"text-align: right;\">\n",
       "      <th></th>\n",
       "      <th>user_id</th>\n",
       "      <th>generation</th>\n",
       "      <th>income_group</th>\n",
       "      <th>department</th>\n",
       "      <th>category</th>\n",
       "      <th>dependants_flag</th>\n",
       "      <th>region</th>\n",
       "      <th>loyalty_flag</th>\n",
       "      <th>spender_flag</th>\n",
       "      <th>prices</th>\n",
       "      <th>days_since_prior_order</th>\n",
       "      <th>max_order</th>\n",
       "      <th>order_number</th>\n",
       "    </tr>\n",
       "  </thead>\n",
       "  <tbody>\n",
       "    <tr>\n",
       "      <th>0</th>\n",
       "      <td>26711</td>\n",
       "      <td>Gen X</td>\n",
       "      <td>Upper Middle Income</td>\n",
       "      <td>beverages</td>\n",
       "      <td>Beverages</td>\n",
       "      <td>With Dependants</td>\n",
       "      <td>Midwest</td>\n",
       "      <td>New customer</td>\n",
       "      <td>Low spender</td>\n",
       "      <td>9.0</td>\n",
       "      <td>30.0</td>\n",
       "      <td>8</td>\n",
       "      <td>5</td>\n",
       "    </tr>\n",
       "    <tr>\n",
       "      <th>1</th>\n",
       "      <td>26711</td>\n",
       "      <td>Gen X</td>\n",
       "      <td>Upper Middle Income</td>\n",
       "      <td>beverages</td>\n",
       "      <td>Beverages</td>\n",
       "      <td>With Dependants</td>\n",
       "      <td>Midwest</td>\n",
       "      <td>New customer</td>\n",
       "      <td>Low spender</td>\n",
       "      <td>9.0</td>\n",
       "      <td>11.0</td>\n",
       "      <td>8</td>\n",
       "      <td>7</td>\n",
       "    </tr>\n",
       "    <tr>\n",
       "      <th>2</th>\n",
       "      <td>26711</td>\n",
       "      <td>Gen X</td>\n",
       "      <td>Upper Middle Income</td>\n",
       "      <td>beverages</td>\n",
       "      <td>Beverages</td>\n",
       "      <td>With Dependants</td>\n",
       "      <td>Midwest</td>\n",
       "      <td>New customer</td>\n",
       "      <td>Low spender</td>\n",
       "      <td>9.0</td>\n",
       "      <td>10.0</td>\n",
       "      <td>8</td>\n",
       "      <td>8</td>\n",
       "    </tr>\n",
       "    <tr>\n",
       "      <th>3</th>\n",
       "      <td>26711</td>\n",
       "      <td>Gen X</td>\n",
       "      <td>Upper Middle Income</td>\n",
       "      <td>produce</td>\n",
       "      <td>Fresh Foods</td>\n",
       "      <td>With Dependants</td>\n",
       "      <td>Midwest</td>\n",
       "      <td>New customer</td>\n",
       "      <td>Low spender</td>\n",
       "      <td>4.3</td>\n",
       "      <td>7.0</td>\n",
       "      <td>8</td>\n",
       "      <td>1</td>\n",
       "    </tr>\n",
       "    <tr>\n",
       "      <th>4</th>\n",
       "      <td>26711</td>\n",
       "      <td>Gen X</td>\n",
       "      <td>Upper Middle Income</td>\n",
       "      <td>produce</td>\n",
       "      <td>Fresh Foods</td>\n",
       "      <td>With Dependants</td>\n",
       "      <td>Midwest</td>\n",
       "      <td>New customer</td>\n",
       "      <td>Low spender</td>\n",
       "      <td>4.3</td>\n",
       "      <td>30.0</td>\n",
       "      <td>8</td>\n",
       "      <td>3</td>\n",
       "    </tr>\n",
       "  </tbody>\n",
       "</table>\n",
       "</div>"
      ],
      "text/plain": [
       "   user_id generation         income_group department     category  \\\n",
       "0    26711      Gen X  Upper Middle Income  beverages    Beverages   \n",
       "1    26711      Gen X  Upper Middle Income  beverages    Beverages   \n",
       "2    26711      Gen X  Upper Middle Income  beverages    Beverages   \n",
       "3    26711      Gen X  Upper Middle Income    produce  Fresh Foods   \n",
       "4    26711      Gen X  Upper Middle Income    produce  Fresh Foods   \n",
       "\n",
       "   dependants_flag   region  loyalty_flag spender_flag  prices  \\\n",
       "0  With Dependants  Midwest  New customer  Low spender     9.0   \n",
       "1  With Dependants  Midwest  New customer  Low spender     9.0   \n",
       "2  With Dependants  Midwest  New customer  Low spender     9.0   \n",
       "3  With Dependants  Midwest  New customer  Low spender     4.3   \n",
       "4  With Dependants  Midwest  New customer  Low spender     4.3   \n",
       "\n",
       "   days_since_prior_order  max_order  order_number  \n",
       "0                    30.0          8             5  \n",
       "1                    11.0          8             7  \n",
       "2                    10.0          8             8  \n",
       "3                     7.0          8             1  \n",
       "4                    30.0          8             3  "
      ]
     },
     "execution_count": 7,
     "metadata": {},
     "output_type": "execute_result"
    }
   ],
   "source": [
    "user_sample.head()"
   ]
  },
  {
   "cell_type": "markdown",
   "id": "c79665c5",
   "metadata": {},
   "source": [
    "### 3. Determining whether there’s a difference in spending habits between the different U.S. regions"
   ]
  },
  {
   "cell_type": "code",
   "execution_count": 8,
   "id": "be8a8006",
   "metadata": {},
   "outputs": [],
   "source": [
    "# Create a crosstab to compare regions with spender flags\n",
    "region_spender_crosstab = pd.crosstab(user_sample['region'], user_sample['spender_flag'],dropna = False)"
   ]
  },
  {
   "cell_type": "code",
   "execution_count": 9,
   "id": "ab67925a",
   "metadata": {},
   "outputs": [
    {
     "name": "stdout",
     "output_type": "stream",
     "text": [
      "spender_flag  High spender  Low spender\n",
      "region                                 \n",
      "Midwest             148678      7112835\n",
      "Northeast           103120      5361565\n",
      "South               199339     10111800\n",
      "West                152288      7774939\n"
     ]
    }
   ],
   "source": [
    "# Display the crosstab\n",
    "print(region_spender_crosstab)"
   ]
  },
  {
   "cell_type": "code",
   "execution_count": 11,
   "id": "d9c47b12",
   "metadata": {
    "scrolled": true
   },
   "outputs": [
    {
     "data": {
      "image/png": "[encoded data removed]",
      "text/plain": [
       "<Figure size 1000x700 with 1 Axes>"
      ]
     },
     "metadata": {},
     "output_type": "display_data"
    }
   ],
   "source": [
    "# Plotting the crosstab\n",
    "region_spender_crosstab.plot(kind='bar', stacked=True, figsize=(10, 7))\n",
    "\n",
    "# Adding labels and title\n",
    "plt.xlabel('Region')\n",
    "plt.ylabel('Number of Customers')\n",
    "plt.title('Spending Habits by Region')\n",
    "\n",
    "# Set the x-axis labels to be horizontal\n",
    "plt.xticks(rotation=0)\n",
    "\n",
    "#Save the plot\n",
    "plt.savefig(os.path.join(path, '04 Analysis', 'Visualizations', 'new', 'spending_habits_by_region.png'), bbox_inches = 'tight')\n",
    "\n",
    "\n",
    "# Display the plot\n",
    "plt.show()"
   ]
  },
  {
   "cell_type": "markdown",
   "id": "9d8993d7",
   "metadata": {},
   "source": [
    "## 4. Aggregate the max, mean, and min variables on a customer-profile level for usage frequency and expenditure"
   ]
  },
  {
   "cell_type": "code",
   "execution_count": 14,
   "id": "5b299a82",
   "metadata": {},
   "outputs": [],
   "source": [
    "# Create aggregated subset of data where the 'prices' column is the total cost of each order:\n",
    "orders_subset = user_sample.groupby(['user_id', 'generation', 'income_group', 'dependants_flag', 'loyalty_flag', 'region', 'order_number', 'days_since_prior_order'])['prices'].sum().reset_index()"
   ]
  },
  {
   "cell_type": "code",
   "execution_count": 15,
   "id": "175d2c72",
   "metadata": {},
   "outputs": [
    {
     "data": {
      "text/html": [
       "<div>\n",
       "<style scoped>\n",
       "    .dataframe tbody tr th:only-of-type {\n",
       "        vertical-align: middle;\n",
       "    }\n",
       "\n",
       "    .dataframe tbody tr th {\n",
       "        vertical-align: top;\n",
       "    }\n",
       "\n",
       "    .dataframe thead th {\n",
       "        text-align: right;\n",
       "    }\n",
       "</style>\n",
       "<table border=\"1\" class=\"dataframe\">\n",
       "  <thead>\n",
       "    <tr style=\"text-align: right;\">\n",
       "      <th></th>\n",
       "      <th>user_id</th>\n",
       "      <th>generation</th>\n",
       "      <th>income_group</th>\n",
       "      <th>dependants_flag</th>\n",
       "      <th>loyalty_flag</th>\n",
       "      <th>region</th>\n",
       "      <th>order_number</th>\n",
       "      <th>days_since_prior_order</th>\n",
       "      <th>prices</th>\n",
       "    </tr>\n",
       "  </thead>\n",
       "  <tbody>\n",
       "    <tr>\n",
       "      <th>0</th>\n",
       "      <td>1</td>\n",
       "      <td>Millennials</td>\n",
       "      <td>Low Income</td>\n",
       "      <td>With Dependants</td>\n",
       "      <td>New customer</td>\n",
       "      <td>South</td>\n",
       "      <td>1</td>\n",
       "      <td>7.0</td>\n",
       "      <td>31.6</td>\n",
       "    </tr>\n",
       "    <tr>\n",
       "      <th>1</th>\n",
       "      <td>1</td>\n",
       "      <td>Millennials</td>\n",
       "      <td>Low Income</td>\n",
       "      <td>With Dependants</td>\n",
       "      <td>New customer</td>\n",
       "      <td>South</td>\n",
       "      <td>2</td>\n",
       "      <td>15.0</td>\n",
       "      <td>35.4</td>\n",
       "    </tr>\n",
       "    <tr>\n",
       "      <th>2</th>\n",
       "      <td>1</td>\n",
       "      <td>Millennials</td>\n",
       "      <td>Low Income</td>\n",
       "      <td>With Dependants</td>\n",
       "      <td>New customer</td>\n",
       "      <td>South</td>\n",
       "      <td>3</td>\n",
       "      <td>21.0</td>\n",
       "      <td>28.2</td>\n",
       "    </tr>\n",
       "    <tr>\n",
       "      <th>3</th>\n",
       "      <td>1</td>\n",
       "      <td>Millennials</td>\n",
       "      <td>Low Income</td>\n",
       "      <td>With Dependants</td>\n",
       "      <td>New customer</td>\n",
       "      <td>South</td>\n",
       "      <td>4</td>\n",
       "      <td>29.0</td>\n",
       "      <td>26.0</td>\n",
       "    </tr>\n",
       "    <tr>\n",
       "      <th>4</th>\n",
       "      <td>1</td>\n",
       "      <td>Millennials</td>\n",
       "      <td>Low Income</td>\n",
       "      <td>With Dependants</td>\n",
       "      <td>New customer</td>\n",
       "      <td>South</td>\n",
       "      <td>5</td>\n",
       "      <td>28.0</td>\n",
       "      <td>57.0</td>\n",
       "    </tr>\n",
       "    <tr>\n",
       "      <th>...</th>\n",
       "      <td>...</td>\n",
       "      <td>...</td>\n",
       "      <td>...</td>\n",
       "      <td>...</td>\n",
       "      <td>...</td>\n",
       "      <td>...</td>\n",
       "      <td>...</td>\n",
       "      <td>...</td>\n",
       "      <td>...</td>\n",
       "    </tr>\n",
       "    <tr>\n",
       "      <th>3064370</th>\n",
       "      <td>206209</td>\n",
       "      <td>Baby Boomers</td>\n",
       "      <td>Upper Middle Income</td>\n",
       "      <td>With Dependants</td>\n",
       "      <td>Regular customer</td>\n",
       "      <td>Midwest</td>\n",
       "      <td>9</td>\n",
       "      <td>22.0</td>\n",
       "      <td>26.2</td>\n",
       "    </tr>\n",
       "    <tr>\n",
       "      <th>3064371</th>\n",
       "      <td>206209</td>\n",
       "      <td>Baby Boomers</td>\n",
       "      <td>Upper Middle Income</td>\n",
       "      <td>With Dependants</td>\n",
       "      <td>Regular customer</td>\n",
       "      <td>Midwest</td>\n",
       "      <td>10</td>\n",
       "      <td>29.0</td>\n",
       "      <td>64.7</td>\n",
       "    </tr>\n",
       "    <tr>\n",
       "      <th>3064372</th>\n",
       "      <td>206209</td>\n",
       "      <td>Baby Boomers</td>\n",
       "      <td>Upper Middle Income</td>\n",
       "      <td>With Dependants</td>\n",
       "      <td>Regular customer</td>\n",
       "      <td>Midwest</td>\n",
       "      <td>11</td>\n",
       "      <td>30.0</td>\n",
       "      <td>56.1</td>\n",
       "    </tr>\n",
       "    <tr>\n",
       "      <th>3064373</th>\n",
       "      <td>206209</td>\n",
       "      <td>Baby Boomers</td>\n",
       "      <td>Upper Middle Income</td>\n",
       "      <td>With Dependants</td>\n",
       "      <td>Regular customer</td>\n",
       "      <td>Midwest</td>\n",
       "      <td>12</td>\n",
       "      <td>18.0</td>\n",
       "      <td>131.5</td>\n",
       "    </tr>\n",
       "    <tr>\n",
       "      <th>3064374</th>\n",
       "      <td>206209</td>\n",
       "      <td>Baby Boomers</td>\n",
       "      <td>Upper Middle Income</td>\n",
       "      <td>With Dependants</td>\n",
       "      <td>Regular customer</td>\n",
       "      <td>Midwest</td>\n",
       "      <td>13</td>\n",
       "      <td>7.0</td>\n",
       "      <td>61.2</td>\n",
       "    </tr>\n",
       "  </tbody>\n",
       "</table>\n",
       "<p>3064375 rows × 9 columns</p>\n",
       "</div>"
      ],
      "text/plain": [
       "         user_id    generation         income_group  dependants_flag  \\\n",
       "0              1   Millennials           Low Income  With Dependants   \n",
       "1              1   Millennials           Low Income  With Dependants   \n",
       "2              1   Millennials           Low Income  With Dependants   \n",
       "3              1   Millennials           Low Income  With Dependants   \n",
       "4              1   Millennials           Low Income  With Dependants   \n",
       "...          ...           ...                  ...              ...   \n",
       "3064370   206209  Baby Boomers  Upper Middle Income  With Dependants   \n",
       "3064371   206209  Baby Boomers  Upper Middle Income  With Dependants   \n",
       "3064372   206209  Baby Boomers  Upper Middle Income  With Dependants   \n",
       "3064373   206209  Baby Boomers  Upper Middle Income  With Dependants   \n",
       "3064374   206209  Baby Boomers  Upper Middle Income  With Dependants   \n",
       "\n",
       "             loyalty_flag   region  order_number  days_since_prior_order  \\\n",
       "0            New customer    South             1                     7.0   \n",
       "1            New customer    South             2                    15.0   \n",
       "2            New customer    South             3                    21.0   \n",
       "3            New customer    South             4                    29.0   \n",
       "4            New customer    South             5                    28.0   \n",
       "...                   ...      ...           ...                     ...   \n",
       "3064370  Regular customer  Midwest             9                    22.0   \n",
       "3064371  Regular customer  Midwest            10                    29.0   \n",
       "3064372  Regular customer  Midwest            11                    30.0   \n",
       "3064373  Regular customer  Midwest            12                    18.0   \n",
       "3064374  Regular customer  Midwest            13                     7.0   \n",
       "\n",
       "         prices  \n",
       "0          31.6  \n",
       "1          35.4  \n",
       "2          28.2  \n",
       "3          26.0  \n",
       "4          57.0  \n",
       "...         ...  \n",
       "3064370    26.2  \n",
       "3064371    64.7  \n",
       "3064372    56.1  \n",
       "3064373   131.5  \n",
       "3064374    61.2  \n",
       "\n",
       "[3064375 rows x 9 columns]"
      ]
     },
     "execution_count": 15,
     "metadata": {},
     "output_type": "execute_result"
    }
   ],
   "source": [
    "#Check the subset\n",
    "orders_subset"
   ]
  },
  {
   "cell_type": "markdown",
   "id": "51ec9fde",
   "metadata": {},
   "source": [
    "### 4.1 Aggregating by generation"
   ]
  },
  {
   "cell_type": "code",
   "execution_count": 49,
   "id": "ea3fbac1",
   "metadata": {},
   "outputs": [
    {
     "data": {
      "text/html": [
       "<div>\n",
       "<style scoped>\n",
       "    .dataframe tbody tr th:only-of-type {\n",
       "        vertical-align: middle;\n",
       "    }\n",
       "\n",
       "    .dataframe tbody tr th {\n",
       "        vertical-align: top;\n",
       "    }\n",
       "\n",
       "    .dataframe thead tr th {\n",
       "        text-align: left;\n",
       "    }\n",
       "\n",
       "    .dataframe thead tr:last-of-type th {\n",
       "        text-align: right;\n",
       "    }\n",
       "</style>\n",
       "<table border=\"1\" class=\"dataframe\">\n",
       "  <thead>\n",
       "    <tr>\n",
       "      <th></th>\n",
       "      <th colspan=\"3\" halign=\"left\">days_since_prior_order</th>\n",
       "      <th colspan=\"3\" halign=\"left\">prices</th>\n",
       "    </tr>\n",
       "    <tr>\n",
       "      <th></th>\n",
       "      <th>min</th>\n",
       "      <th>mean</th>\n",
       "      <th>max</th>\n",
       "      <th>min</th>\n",
       "      <th>mean</th>\n",
       "      <th>max</th>\n",
       "    </tr>\n",
       "    <tr>\n",
       "      <th>generation</th>\n",
       "      <th></th>\n",
       "      <th></th>\n",
       "      <th></th>\n",
       "      <th></th>\n",
       "      <th></th>\n",
       "      <th></th>\n",
       "    </tr>\n",
       "  </thead>\n",
       "  <tbody>\n",
       "    <tr>\n",
       "      <th>75+</th>\n",
       "      <td>0.0</td>\n",
       "      <td>10.193719</td>\n",
       "      <td>30.0</td>\n",
       "      <td>0.0</td>\n",
       "      <td>78.203324</td>\n",
       "      <td>664.1</td>\n",
       "    </tr>\n",
       "    <tr>\n",
       "      <th>Baby Boomers</th>\n",
       "      <td>0.0</td>\n",
       "      <td>10.207827</td>\n",
       "      <td>30.0</td>\n",
       "      <td>0.0</td>\n",
       "      <td>78.626555</td>\n",
       "      <td>1092.2</td>\n",
       "    </tr>\n",
       "    <tr>\n",
       "      <th>Gen X</th>\n",
       "      <td>0.0</td>\n",
       "      <td>10.187542</td>\n",
       "      <td>30.0</td>\n",
       "      <td>0.0</td>\n",
       "      <td>78.466058</td>\n",
       "      <td>1047.4</td>\n",
       "    </tr>\n",
       "    <tr>\n",
       "      <th>Millennials</th>\n",
       "      <td>0.0</td>\n",
       "      <td>10.243533</td>\n",
       "      <td>30.0</td>\n",
       "      <td>0.0</td>\n",
       "      <td>79.117188</td>\n",
       "      <td>829.2</td>\n",
       "    </tr>\n",
       "    <tr>\n",
       "      <th>Gen Z</th>\n",
       "      <td>0.0</td>\n",
       "      <td>10.173742</td>\n",
       "      <td>30.0</td>\n",
       "      <td>0.0</td>\n",
       "      <td>79.112302</td>\n",
       "      <td>842.1</td>\n",
       "    </tr>\n",
       "  </tbody>\n",
       "</table>\n",
       "</div>"
      ],
      "text/plain": [
       "             days_since_prior_order                  prices                   \n",
       "                                min       mean   max    min       mean     max\n",
       "generation                                                                    \n",
       "75+                             0.0  10.193719  30.0    0.0  78.203324   664.1\n",
       "Baby Boomers                    0.0  10.207827  30.0    0.0  78.626555  1092.2\n",
       "Gen X                           0.0  10.187542  30.0    0.0  78.466058  1047.4\n",
       "Millennials                     0.0  10.243533  30.0    0.0  79.117188   829.2\n",
       "Gen Z                           0.0  10.173742  30.0    0.0  79.112302   842.1"
      ]
     },
     "execution_count": 49,
     "metadata": {},
     "output_type": "execute_result"
    }
   ],
   "source": [
    "# max, min, mean by generation category\n",
    "aggregations_by_gen = orders_subset.groupby('generation').agg({'days_since_prior_order' : ['min', 'mean', 'max'], \n",
    "                                                                  'prices' : ['min', 'mean', 'max']})\n",
    "\n",
    "# Reorder the index to ensure the desired order\n",
    "ordered_generations = ['75+', 'Baby Boomers', 'Gen X', 'Millennials', 'Gen Z']\n",
    "aggregations_by_gen = aggregations_by_gen.reindex(ordered_generations)\n",
    "\n",
    "# Define the file path for exporting the DataFrame to Excel\n",
    "file_path = os.path.join(path, '04 Analysis', 'Visualizations', 'new', 'aggregations_by_generation.xlsx')\n",
    "\n",
    "# Export the aggregation to an Excel file\n",
    "aggregations_by_gen.to_excel(file_path, index=True)\n",
    "\n",
    "# Check the aggregation\n",
    "aggregations_by_gen"
   ]
  },
  {
   "cell_type": "markdown",
   "id": "02f2bac7",
   "metadata": {},
   "source": [
    "### 4.2 Aggregating by income"
   ]
  },
  {
   "cell_type": "code",
   "execution_count": 47,
   "id": "7289ea87",
   "metadata": {},
   "outputs": [
    {
     "data": {
      "text/html": [
       "<div>\n",
       "<style scoped>\n",
       "    .dataframe tbody tr th:only-of-type {\n",
       "        vertical-align: middle;\n",
       "    }\n",
       "\n",
       "    .dataframe tbody tr th {\n",
       "        vertical-align: top;\n",
       "    }\n",
       "\n",
       "    .dataframe thead tr th {\n",
       "        text-align: left;\n",
       "    }\n",
       "\n",
       "    .dataframe thead tr:last-of-type th {\n",
       "        text-align: right;\n",
       "    }\n",
       "</style>\n",
       "<table border=\"1\" class=\"dataframe\">\n",
       "  <thead>\n",
       "    <tr>\n",
       "      <th></th>\n",
       "      <th colspan=\"3\" halign=\"left\">days_since_prior_order</th>\n",
       "      <th colspan=\"3\" halign=\"left\">prices</th>\n",
       "    </tr>\n",
       "    <tr>\n",
       "      <th></th>\n",
       "      <th>min</th>\n",
       "      <th>mean</th>\n",
       "      <th>max</th>\n",
       "      <th>min</th>\n",
       "      <th>mean</th>\n",
       "      <th>max</th>\n",
       "    </tr>\n",
       "    <tr>\n",
       "      <th>income_group</th>\n",
       "      <th></th>\n",
       "      <th></th>\n",
       "      <th></th>\n",
       "      <th></th>\n",
       "      <th></th>\n",
       "      <th></th>\n",
       "    </tr>\n",
       "  </thead>\n",
       "  <tbody>\n",
       "    <tr>\n",
       "      <th>High Income</th>\n",
       "      <td>0.0</td>\n",
       "      <td>9.094227</td>\n",
       "      <td>30.0</td>\n",
       "      <td>0.0</td>\n",
       "      <td>88.723763</td>\n",
       "      <td>1047.4</td>\n",
       "    </tr>\n",
       "    <tr>\n",
       "      <th>Upper Middle Income</th>\n",
       "      <td>0.0</td>\n",
       "      <td>10.106153</td>\n",
       "      <td>30.0</td>\n",
       "      <td>0.0</td>\n",
       "      <td>83.712856</td>\n",
       "      <td>846.1</td>\n",
       "    </tr>\n",
       "    <tr>\n",
       "      <th>Middle Income</th>\n",
       "      <td>0.0</td>\n",
       "      <td>10.170750</td>\n",
       "      <td>30.0</td>\n",
       "      <td>0.0</td>\n",
       "      <td>79.992761</td>\n",
       "      <td>1092.2</td>\n",
       "    </tr>\n",
       "    <tr>\n",
       "      <th>Low Income</th>\n",
       "      <td>0.0</td>\n",
       "      <td>10.969615</td>\n",
       "      <td>30.0</td>\n",
       "      <td>1.0</td>\n",
       "      <td>49.434370</td>\n",
       "      <td>875.0</td>\n",
       "    </tr>\n",
       "  </tbody>\n",
       "</table>\n",
       "</div>"
      ],
      "text/plain": [
       "                    days_since_prior_order                  prices             \\\n",
       "                                       min       mean   max    min       mean   \n",
       "income_group                                                                    \n",
       "High Income                            0.0   9.094227  30.0    0.0  88.723763   \n",
       "Upper Middle Income                    0.0  10.106153  30.0    0.0  83.712856   \n",
       "Middle Income                          0.0  10.170750  30.0    0.0  79.992761   \n",
       "Low Income                             0.0  10.969615  30.0    1.0  49.434370   \n",
       "\n",
       "                             \n",
       "                        max  \n",
       "income_group                 \n",
       "High Income          1047.4  \n",
       "Upper Middle Income   846.1  \n",
       "Middle Income        1092.2  \n",
       "Low Income            875.0  "
      ]
     },
     "execution_count": 47,
     "metadata": {},
     "output_type": "execute_result"
    }
   ],
   "source": [
    "# max, min, mean by income group\n",
    "aggregations_by_income = orders_subset.groupby('income_group').agg({'days_since_prior_order' : ['min', 'mean', 'max'], \n",
    "                                                                  'prices' : ['min', 'mean', 'max']})\n",
    "# Reorder the index \n",
    "ordered_income_groups = ['High Income', 'Upper Middle Income', 'Middle Income', 'Low Income']\n",
    "aggregations_by_income = aggregations_by_income.reindex(ordered_income_groups)\n",
    "\n",
    "# Define the file path for exporting the DataFrame to Excel\n",
    "file_path = os.path.join(path, '04 Analysis', 'Visualizations', 'new', 'aggregations_by_income.xlsx')\n",
    "\n",
    "# Export the aggregation to an Excel file\n",
    "aggregations_by_income.to_excel(file_path, index=True)\n",
    "\n",
    "# Check the aggregation\n",
    "aggregations_by_income"
   ]
  },
  {
   "cell_type": "markdown",
   "id": "79d9ae52",
   "metadata": {},
   "source": [
    "### 4.3 Aggregating by dependant status"
   ]
  },
  {
   "cell_type": "code",
   "execution_count": 20,
   "id": "594c511b",
   "metadata": {},
   "outputs": [
    {
     "data": {
      "text/html": [
       "<div>\n",
       "<style scoped>\n",
       "    .dataframe tbody tr th:only-of-type {\n",
       "        vertical-align: middle;\n",
       "    }\n",
       "\n",
       "    .dataframe tbody tr th {\n",
       "        vertical-align: top;\n",
       "    }\n",
       "\n",
       "    .dataframe thead tr th {\n",
       "        text-align: left;\n",
       "    }\n",
       "\n",
       "    .dataframe thead tr:last-of-type th {\n",
       "        text-align: right;\n",
       "    }\n",
       "</style>\n",
       "<table border=\"1\" class=\"dataframe\">\n",
       "  <thead>\n",
       "    <tr>\n",
       "      <th></th>\n",
       "      <th colspan=\"3\" halign=\"left\">days_since_prior_order</th>\n",
       "      <th colspan=\"3\" halign=\"left\">prices</th>\n",
       "    </tr>\n",
       "    <tr>\n",
       "      <th></th>\n",
       "      <th>min</th>\n",
       "      <th>mean</th>\n",
       "      <th>max</th>\n",
       "      <th>min</th>\n",
       "      <th>mean</th>\n",
       "      <th>max</th>\n",
       "    </tr>\n",
       "    <tr>\n",
       "      <th>dependants_flag</th>\n",
       "      <th></th>\n",
       "      <th></th>\n",
       "      <th></th>\n",
       "      <th></th>\n",
       "      <th></th>\n",
       "      <th></th>\n",
       "    </tr>\n",
       "  </thead>\n",
       "  <tbody>\n",
       "    <tr>\n",
       "      <th>No Dependants</th>\n",
       "      <td>0.0</td>\n",
       "      <td>10.198976</td>\n",
       "      <td>30.0</td>\n",
       "      <td>0.0</td>\n",
       "      <td>78.514072</td>\n",
       "      <td>875.0</td>\n",
       "    </tr>\n",
       "    <tr>\n",
       "      <th>With Dependants</th>\n",
       "      <td>0.0</td>\n",
       "      <td>10.208390</td>\n",
       "      <td>30.0</td>\n",
       "      <td>0.0</td>\n",
       "      <td>78.774314</td>\n",
       "      <td>1092.2</td>\n",
       "    </tr>\n",
       "  </tbody>\n",
       "</table>\n",
       "</div>"
      ],
      "text/plain": [
       "                days_since_prior_order                  prices             \\\n",
       "                                   min       mean   max    min       mean   \n",
       "dependants_flag                                                             \n",
       "No Dependants                      0.0  10.198976  30.0    0.0  78.514072   \n",
       "With Dependants                    0.0  10.208390  30.0    0.0  78.774314   \n",
       "\n",
       "                         \n",
       "                    max  \n",
       "dependants_flag          \n",
       "No Dependants     875.0  \n",
       "With Dependants  1092.2  "
      ]
     },
     "execution_count": 20,
     "metadata": {},
     "output_type": "execute_result"
    }
   ],
   "source": [
    "# max, min, mean by dependance flag\n",
    "aggregations_by_dependants = orders_subset.groupby('dependants_flag').agg({'days_since_prior_order' : ['min', 'mean', 'max'], \n",
    "                                                                  'prices' : ['min', 'mean', 'max']})\n",
    "\n",
    "# Define the file path for exporting the DataFrame to Excel\n",
    "file_path = os.path.join(path, '04 Analysis', 'Visualizations', 'new', 'aggregations_by_dependants.xlsx')\n",
    "\n",
    "# Export the aggregation to an Excel file\n",
    "aggregations_by_dependants.to_excel(file_path, index=True)\n",
    "\n",
    "# Check the aggregation\n",
    "aggregations_by_dependants"
   ]
  },
  {
   "cell_type": "markdown",
   "id": "f20c0395",
   "metadata": {},
   "source": [
    "### 5. Are there differences in ordering habits based on a customers' loyalty status?"
   ]
  },
  {
   "cell_type": "code",
   "execution_count": 21,
   "id": "7068f00d",
   "metadata": {},
   "outputs": [],
   "source": [
    "# Group the data by 'loyalty_flag' and calculate the mean of 'prices' for each group\n",
    "product_avg_cost = user_sample.groupby('loyalty_flag')['prices'].mean().sort_values(ascending = False).reset_index()"
   ]
  },
  {
   "cell_type": "code",
   "execution_count": 22,
   "id": "658e914d",
   "metadata": {},
   "outputs": [
    {
     "data": {
      "text/html": [
       "<div>\n",
       "<style scoped>\n",
       "    .dataframe tbody tr th:only-of-type {\n",
       "        vertical-align: middle;\n",
       "    }\n",
       "\n",
       "    .dataframe tbody tr th {\n",
       "        vertical-align: top;\n",
       "    }\n",
       "\n",
       "    .dataframe thead th {\n",
       "        text-align: right;\n",
       "    }\n",
       "</style>\n",
       "<table border=\"1\" class=\"dataframe\">\n",
       "  <thead>\n",
       "    <tr style=\"text-align: right;\">\n",
       "      <th></th>\n",
       "      <th>loyalty_flag</th>\n",
       "      <th>prices</th>\n",
       "    </tr>\n",
       "  </thead>\n",
       "  <tbody>\n",
       "    <tr>\n",
       "      <th>0</th>\n",
       "      <td>New customer</td>\n",
       "      <td>7.801665</td>\n",
       "    </tr>\n",
       "    <tr>\n",
       "      <th>1</th>\n",
       "      <td>Regular customer</td>\n",
       "      <td>7.798262</td>\n",
       "    </tr>\n",
       "    <tr>\n",
       "      <th>2</th>\n",
       "      <td>Loyal customer</td>\n",
       "      <td>7.773575</td>\n",
       "    </tr>\n",
       "  </tbody>\n",
       "</table>\n",
       "</div>"
      ],
      "text/plain": [
       "       loyalty_flag    prices\n",
       "0      New customer  7.801665\n",
       "1  Regular customer  7.798262\n",
       "2    Loyal customer  7.773575"
      ]
     },
     "execution_count": 22,
     "metadata": {},
     "output_type": "execute_result"
    }
   ],
   "source": [
    "#Check the table\n",
    "product_avg_cost"
   ]
  },
  {
   "cell_type": "code",
   "execution_count": 23,
   "id": "7dbe9c25",
   "metadata": {},
   "outputs": [
    {
     "data": {
      "image/png": "[encoded data removed]",
      "text/plain": [
       "<Figure size 1000x600 with 1 Axes>"
      ]
     },
     "metadata": {},
     "output_type": "display_data"
    }
   ],
   "source": [
    "#Assign colors to each bar\n",
    "colors = ['salmon', 'skyblue', 'lightgreen']\n",
    "\n",
    "# Plotting the bar chart\n",
    "plt.figure(figsize=(10, 6))\n",
    "sns.barplot(x='loyalty_flag', y='prices', data=product_avg_cost, palette=colors)\n",
    "\n",
    "# Adding title and labels\n",
    "plt.title('Average Product Cost by Loyalty Category')\n",
    "plt.xlabel('')\n",
    "plt.ylabel('Average Price ($)')\n",
    "\n",
    "plt.savefig(os.path.join(path, '04 Analysis', 'Visualizations', 'new', 'average_product_cost_by_loyalty_category.png'), bbox_inches = 'tight')\n",
    "\n",
    "\n",
    "# Display the plot\n",
    "plt.show()"
   ]
  },
  {
   "cell_type": "code",
   "execution_count": 24,
   "id": "a9b7e84f",
   "metadata": {},
   "outputs": [],
   "source": [
    "# Group the data by 'loyalty_flag' and calculate the sumof 'prices' for each group\n",
    "product_total_cost = user_sample.groupby('loyalty_flag')['prices'].sum().sort_values(ascending = False).reset_index()"
   ]
  },
  {
   "cell_type": "code",
   "execution_count": 25,
   "id": "0b5443a2",
   "metadata": {},
   "outputs": [
    {
     "data": {
      "text/html": [
       "<div>\n",
       "<style scoped>\n",
       "    .dataframe tbody tr th:only-of-type {\n",
       "        vertical-align: middle;\n",
       "    }\n",
       "\n",
       "    .dataframe tbody tr th {\n",
       "        vertical-align: top;\n",
       "    }\n",
       "\n",
       "    .dataframe thead th {\n",
       "        text-align: right;\n",
       "    }\n",
       "</style>\n",
       "<table border=\"1\" class=\"dataframe\">\n",
       "  <thead>\n",
       "    <tr style=\"text-align: right;\">\n",
       "      <th></th>\n",
       "      <th>loyalty_flag</th>\n",
       "      <th>prices</th>\n",
       "    </tr>\n",
       "  </thead>\n",
       "  <tbody>\n",
       "    <tr>\n",
       "      <th>0</th>\n",
       "      <td>Regular customer</td>\n",
       "      <td>123790606.2</td>\n",
       "    </tr>\n",
       "    <tr>\n",
       "      <th>1</th>\n",
       "      <td>Loyal customer</td>\n",
       "      <td>79933825.2</td>\n",
       "    </tr>\n",
       "    <tr>\n",
       "      <th>2</th>\n",
       "      <td>New customer</td>\n",
       "      <td>37469804.2</td>\n",
       "    </tr>\n",
       "  </tbody>\n",
       "</table>\n",
       "</div>"
      ],
      "text/plain": [
       "       loyalty_flag       prices\n",
       "0  Regular customer  123790606.2\n",
       "1    Loyal customer   79933825.2\n",
       "2      New customer   37469804.2"
      ]
     },
     "execution_count": 25,
     "metadata": {},
     "output_type": "execute_result"
    }
   ],
   "source": [
    "#Check the table\n",
    "product_total_cost"
   ]
  },
  {
   "cell_type": "code",
   "execution_count": 26,
   "id": "66b3e85f",
   "metadata": {},
   "outputs": [
    {
     "data": {
      "image/png": "[encoded data removed]",
      "text/plain": [
       "<Figure size 1000x600 with 1 Axes>"
      ]
     },
     "metadata": {},
     "output_type": "display_data"
    }
   ],
   "source": [
    "#Assign colors to each bar\n",
    "colors = ['skyblue', 'lightgreen', 'salmon']\n",
    "\n",
    "# Plotting the bar chart\n",
    "plt.figure(figsize=(10, 6))\n",
    "sns.barplot(x='loyalty_flag', y='prices', data=product_total_cost, palette=colors)\n",
    "\n",
    "# Adding title and labels\n",
    "plt.title('Total Purchase by Loyalty Category')\n",
    "plt.xlabel('')\n",
    "plt.ylabel('Total Price ($)')\n",
    "\n",
    "# Define a function to format the y-axis tick labels\n",
    "def format_thousands(x, pos):\n",
    "    return f'{int(x):,}'\n",
    "\n",
    "# Apply the formatter to the y-axis\n",
    "plt.gca().yaxis.set_major_formatter(FuncFormatter(format_thousands))\n",
    "\n",
    "\n",
    "#Save the plot\n",
    "plt.savefig(os.path.join(path, '04 Analysis', 'Visualizations', 'new', 'total_purchase_cost_by_loyalty_category.png'), bbox_inches = 'tight')\n",
    "\n",
    "\n",
    "# Display the plot\n",
    "plt.show()"
   ]
  },
  {
   "cell_type": "markdown",
   "id": "95f103e3",
   "metadata": {},
   "source": [
    "#### 5.1 Distribution of loyalty groups"
   ]
  },
  {
   "cell_type": "code",
   "execution_count": 35,
   "id": "74c5a76d",
   "metadata": {},
   "outputs": [],
   "source": [
    "# Count the occurrences of each loyalty group\n",
    "income_counts = user_sample['loyalty_flag'].value_counts()"
   ]
  },
  {
   "cell_type": "code",
   "execution_count": 39,
   "id": "873d3e35",
   "metadata": {
    "scrolled": true
   },
   "outputs": [
    {
     "data": {
      "image/png": "[encoded data removed]",
      "text/plain": [
       "<Figure size 700x700 with 1 Axes>"
      ]
     },
     "metadata": {},
     "output_type": "display_data"
    }
   ],
   "source": [
    "#Assign colors to each bar\n",
    "colors = ['skyblue', 'lightgreen', 'salmon']\n",
    "\n",
    "# Plot the pie chart\n",
    "plt.figure(figsize=(7, 7))\n",
    "wedges, texts, autotexts = plt.pie(\n",
    "    income_counts, \n",
    "    labels=income_counts.index, \n",
    "    autopct='%1.1f%%', \n",
    "    startangle=140, \n",
    "    colors=colors, \n",
    "    wedgeprops={'edgecolor': 'black', 'linewidth': 1.5}\n",
    ")\n",
    "plt.title('Instacart Distribution of Customers by Loyalty Status', pad=30, fontweight='bold')\n",
    "plt.axis('equal')  # Equal aspect ratio ensures the pie chart is circular\n",
    "\n",
    "#Save the plot\n",
    "plt.savefig(os.path.join(path, '04 Analysis', 'Visualizations', 'new', 'distribution_by_loyalty_category.png'), bbox_inches = 'tight')\n",
    "\n",
    "\n",
    "\n",
    "# Show the plot\n",
    "plt.show()"
   ]
  },
  {
   "cell_type": "code",
   "execution_count": null,
   "id": "ba8f87f6",
   "metadata": {},
   "outputs": [],
   "source": []
  },
  {
   "cell_type": "code",
   "execution_count": null,
   "id": "f8d5f071",
   "metadata": {},
   "outputs": [],
   "source": []
  },
  {
   "cell_type": "markdown",
   "id": "49569edb",
   "metadata": {},
   "source": [
    "### 6. Are there differences in ordering habits based on a customer's region?"
   ]
  },
  {
   "cell_type": "code",
   "execution_count": 27,
   "id": "174dc226",
   "metadata": {},
   "outputs": [],
   "source": [
    "# Group the data by 'region' and calculate the mean of 'prices' for each group\n",
    "product_avg_cost_2 = user_sample.groupby('region')['prices'].mean().sort_values(ascending = False).reset_index()"
   ]
  },
  {
   "cell_type": "code",
   "execution_count": 28,
   "id": "23e723d8",
   "metadata": {},
   "outputs": [
    {
     "data": {
      "text/html": [
       "<div>\n",
       "<style scoped>\n",
       "    .dataframe tbody tr th:only-of-type {\n",
       "        vertical-align: middle;\n",
       "    }\n",
       "\n",
       "    .dataframe tbody tr th {\n",
       "        vertical-align: top;\n",
       "    }\n",
       "\n",
       "    .dataframe thead th {\n",
       "        text-align: right;\n",
       "    }\n",
       "</style>\n",
       "<table border=\"1\" class=\"dataframe\">\n",
       "  <thead>\n",
       "    <tr style=\"text-align: right;\">\n",
       "      <th></th>\n",
       "      <th>region</th>\n",
       "      <th>prices</th>\n",
       "    </tr>\n",
       "  </thead>\n",
       "  <tbody>\n",
       "    <tr>\n",
       "      <th>0</th>\n",
       "      <td>South</td>\n",
       "      <td>7.794439</td>\n",
       "    </tr>\n",
       "    <tr>\n",
       "      <th>1</th>\n",
       "      <td>Midwest</td>\n",
       "      <td>7.792318</td>\n",
       "    </tr>\n",
       "    <tr>\n",
       "      <th>2</th>\n",
       "      <td>West</td>\n",
       "      <td>7.790308</td>\n",
       "    </tr>\n",
       "    <tr>\n",
       "      <th>3</th>\n",
       "      <td>Northeast</td>\n",
       "      <td>7.781441</td>\n",
       "    </tr>\n",
       "  </tbody>\n",
       "</table>\n",
       "</div>"
      ],
      "text/plain": [
       "      region    prices\n",
       "0      South  7.794439\n",
       "1    Midwest  7.792318\n",
       "2       West  7.790308\n",
       "3  Northeast  7.781441"
      ]
     },
     "execution_count": 28,
     "metadata": {},
     "output_type": "execute_result"
    }
   ],
   "source": [
    "#Check the table\n",
    "product_avg_cost_2"
   ]
  },
  {
   "cell_type": "code",
   "execution_count": 30,
   "id": "b79d087e",
   "metadata": {},
   "outputs": [
    {
     "data": {
      "image/png": "[encoded data removed]",
      "text/plain": [
       "<Figure size 1000x600 with 1 Axes>"
      ]
     },
     "metadata": {},
     "output_type": "display_data"
    }
   ],
   "source": [
    "\n",
    "# Define colors\n",
    "pastel_colors = ['#ffb3ba', '#ffdfba', '#ffffba', '#baffc9', '#bae1ff', '#cba6f7']\n",
    "\n",
    "# Plotting the bar chart\n",
    "plt.figure(figsize=(10, 6))\n",
    "sns.barplot(x='region', y='prices', data=product_avg_cost_2, palette=pastel_colors, edgecolor='black')\n",
    "\n",
    "# Adding title and labels\n",
    "plt.title('Average Purchase Cost by Region')\n",
    "plt.xlabel('')\n",
    "plt.ylabel('Average Price ($)')\n",
    "\n",
    "#Save the chart\n",
    "plt.savefig(os.path.join(path, '04 Analysis', 'Visualizations', 'new', 'average_purchase_cost_by_region.png'), bbox_inches = 'tight')\n",
    "\n",
    "\n",
    "# Display the plot\n",
    "plt.show()"
   ]
  },
  {
   "cell_type": "code",
   "execution_count": 32,
   "id": "5de66493",
   "metadata": {},
   "outputs": [],
   "source": [
    "# Group the data by 'region' and calculate the sum of 'prices' for each group\n",
    "product_total_cost = user_sample.groupby('region')['prices'].sum().sort_values(ascending = False).reset_index()"
   ]
  },
  {
   "cell_type": "code",
   "execution_count": 33,
   "id": "79107366",
   "metadata": {},
   "outputs": [
    {
     "data": {
      "text/html": [
       "<div>\n",
       "<style scoped>\n",
       "    .dataframe tbody tr th:only-of-type {\n",
       "        vertical-align: middle;\n",
       "    }\n",
       "\n",
       "    .dataframe tbody tr th {\n",
       "        vertical-align: top;\n",
       "    }\n",
       "\n",
       "    .dataframe thead th {\n",
       "        text-align: right;\n",
       "    }\n",
       "</style>\n",
       "<table border=\"1\" class=\"dataframe\">\n",
       "  <thead>\n",
       "    <tr style=\"text-align: right;\">\n",
       "      <th></th>\n",
       "      <th>region</th>\n",
       "      <th>prices</th>\n",
       "    </tr>\n",
       "  </thead>\n",
       "  <tbody>\n",
       "    <tr>\n",
       "      <th>0</th>\n",
       "      <td>South</td>\n",
       "      <td>80356321.2</td>\n",
       "    </tr>\n",
       "    <tr>\n",
       "      <th>1</th>\n",
       "      <td>West</td>\n",
       "      <td>61746425.9</td>\n",
       "    </tr>\n",
       "    <tr>\n",
       "      <th>2</th>\n",
       "      <td>Midwest</td>\n",
       "      <td>56574613.8</td>\n",
       "    </tr>\n",
       "    <tr>\n",
       "      <th>3</th>\n",
       "      <td>Northeast</td>\n",
       "      <td>42516874.7</td>\n",
       "    </tr>\n",
       "  </tbody>\n",
       "</table>\n",
       "</div>"
      ],
      "text/plain": [
       "      region      prices\n",
       "0      South  80356321.2\n",
       "1       West  61746425.9\n",
       "2    Midwest  56574613.8\n",
       "3  Northeast  42516874.7"
      ]
     },
     "execution_count": 33,
     "metadata": {},
     "output_type": "execute_result"
    }
   ],
   "source": [
    "#Check the table\n",
    "product_total_cost"
   ]
  },
  {
   "cell_type": "code",
   "execution_count": 34,
   "id": "bc801156",
   "metadata": {
    "scrolled": true
   },
   "outputs": [
    {
     "data": {
      "image/png": "[encoded data removed]",
      "text/plain": [
       "<Figure size 1000x600 with 1 Axes>"
      ]
     },
     "metadata": {},
     "output_type": "display_data"
    }
   ],
   "source": [
    "# Plotting the bar chart\n",
    "plt.figure(figsize=(10, 6))\n",
    "sns.barplot(x='region', y='prices', data=product_total_cost, palette=pastel_colors, edgecolor='black')\n",
    "\n",
    "# Adding title and labels\n",
    "plt.title('Total Purchase Cost by Region')\n",
    "plt.xlabel('')\n",
    "plt.ylabel('Total Price ($)')\n",
    "\n",
    "# Define a function to format the y-axis tick labels\n",
    "def format_thousands(x, pos):\n",
    "    return f'{int(x):,}'\n",
    "\n",
    "# Apply the formatter to the y-axis\n",
    "plt.gca().yaxis.set_major_formatter(FuncFormatter(format_thousands))\n",
    "\n",
    "#Save the plot\n",
    "plt.savefig(os.path.join(path, '04 Analysis', 'Visualizations', 'new', 'total_purchase_cost_by_region.png'), bbox_inches = 'tight')\n",
    "\n",
    "\n",
    "# Display the plot\n",
    "plt.show()"
   ]
  },
  {
   "cell_type": "markdown",
   "id": "0fa04bea",
   "metadata": {},
   "source": [
    "#### 6.1 Distribution of regions"
   ]
  },
  {
   "cell_type": "code",
   "execution_count": 43,
   "id": "7d1c2ccc",
   "metadata": {},
   "outputs": [
    {
     "data": {
      "image/png": "[encoded data removed]",
      "text/plain": [
       "<Figure size 700x700 with 1 Axes>"
      ]
     },
     "metadata": {},
     "output_type": "display_data"
    }
   ],
   "source": [
    "# Calculate the distribution of customers by region\n",
    "region_distribution = user_sample['region'].value_counts(normalize=True) * 100\n",
    "\n",
    "# Create a DataFrame for plotting\n",
    "region_distribution_df = region_distribution.reset_index()\n",
    "region_distribution_df.columns = ['Region', 'Percentage']\n",
    "\n",
    "# Define colors\n",
    "pastel_colors = ['#ffb3ba', '#ffdfba', '#ffffba', '#baffc9', '#bae1ff', '#cba6f7']\n",
    "\n",
    "# Plotting the pie chart\n",
    "plt.figure(figsize=(7, 7))\n",
    "plt.pie(region_distribution_df['Percentage'], labels=region_distribution_df['Region'], autopct='%1.1f%%', startangle=140, colors=pastel_colors, wedgeprops={'edgecolor': 'black'})\n",
    "\n",
    "# Adding title\n",
    "plt.title('Instacart Distribution of Customers by Region', pad=30, fontweight='bold')\n",
    "\n",
    "# Save the chart\n",
    "plt.savefig(os.path.join(path, '04 Analysis', 'Visualizations', 'new', 'distribution_of_customers_by_region_pie.png'), bbox_inches='tight')\n",
    "\n",
    "\n",
    "# Display the plot\n",
    "plt.show()"
   ]
  },
  {
   "cell_type": "code",
   "execution_count": null,
   "id": "24802fbe",
   "metadata": {},
   "outputs": [],
   "source": []
  }
 ],
 "metadata": {
  "kernelspec": {
   "display_name": "Python 3 (ipykernel)",
   "language": "python",
   "name": "python3"
  },
  "language_info": {
   "codemirror_mode": {
    "name": "ipython",
    "version": 3
   },
   "file_extension": ".py",
   "mimetype": "text/x-python",
   "name": "python",
   "nbconvert_exporter": "python",
   "pygments_lexer": "ipython3",
   "version": "3.11.7"
  }
 },
 "nbformat": 4,
 "nbformat_minor": 5
}
