{
 "cells": [
  {
   "cell_type": "code",
   "execution_count": 1,
   "id": "38a0c25e",
   "metadata": {},
   "outputs": [],
   "source": [
    "#Import Libraries\n",
    "import pandas as pd\n",
    "import numpy as np\n",
    "import os"
   ]
  },
  {
   "cell_type": "markdown",
   "id": "7f21fe46",
   "metadata": {},
   "source": [
    "## Data Types"
   ]
  },
  {
   "cell_type": "code",
   "execution_count": 2,
   "id": "a481a599",
   "metadata": {},
   "outputs": [],
   "source": [
    "x=50"
   ]
  },
  {
   "cell_type": "code",
   "execution_count": 3,
   "id": "75b843ee",
   "metadata": {},
   "outputs": [
    {
     "data": {
      "text/plain": [
       "100"
      ]
     },
     "execution_count": 3,
     "metadata": {},
     "output_type": "execute_result"
    }
   ],
   "source": [
    "x*2"
   ]
  },
  {
   "cell_type": "code",
   "execution_count": 4,
   "id": "8e6ed9b2",
   "metadata": {},
   "outputs": [],
   "source": [
    "y=10"
   ]
  },
  {
   "cell_type": "code",
   "execution_count": 5,
   "id": "7858e759",
   "metadata": {},
   "outputs": [],
   "source": [
    "z=90"
   ]
  },
  {
   "cell_type": "code",
   "execution_count": 6,
   "id": "f592a441",
   "metadata": {},
   "outputs": [
    {
     "data": {
      "text/plain": [
       "100"
      ]
     },
     "execution_count": 6,
     "metadata": {},
     "output_type": "execute_result"
    }
   ],
   "source": [
    "y+z"
   ]
  },
  {
   "cell_type": "code",
   "execution_count": 9,
   "id": "7f64ba16",
   "metadata": {},
   "outputs": [
    {
     "data": {
      "text/plain": [
       "100"
      ]
     },
     "execution_count": 9,
     "metadata": {},
     "output_type": "execute_result"
    }
   ],
   "source": [
    "y*y"
   ]
  },
  {
   "cell_type": "code",
   "execution_count": 10,
   "id": "b984e216",
   "metadata": {},
   "outputs": [],
   "source": [
    "var1=6.8\n",
    "var2=3.1"
   ]
  },
  {
   "cell_type": "code",
   "execution_count": 11,
   "id": "b0a5edab",
   "metadata": {},
   "outputs": [
    {
     "data": {
      "text/plain": [
       "2.193548387096774"
      ]
     },
     "execution_count": 11,
     "metadata": {},
     "output_type": "execute_result"
    }
   ],
   "source": [
    "var1/var2"
   ]
  },
  {
   "cell_type": "code",
   "execution_count": 16,
   "id": "fed45169",
   "metadata": {},
   "outputs": [],
   "source": [
    "w1='Is '\n",
    "w2='Python '\n",
    "w3='hard '"
   ]
  },
  {
   "cell_type": "code",
   "execution_count": 17,
   "id": "ba5edab2",
   "metadata": {},
   "outputs": [
    {
     "data": {
      "text/plain": [
       "'Is Python hard '"
      ]
     },
     "execution_count": 17,
     "metadata": {},
     "output_type": "execute_result"
    }
   ],
   "source": [
    "w1+w2+w3"
   ]
  },
  {
   "cell_type": "code",
   "execution_count": 18,
   "id": "bfc07188",
   "metadata": {},
   "outputs": [],
   "source": [
    "syl1='Py'\n",
    "syl2='ton'"
   ]
  },
  {
   "cell_type": "code",
   "execution_count": 19,
   "id": "eb7e9328",
   "metadata": {},
   "outputs": [
    {
     "data": {
      "text/plain": [
       "'Pyton'"
      ]
     },
     "execution_count": 19,
     "metadata": {},
     "output_type": "execute_result"
    }
   ],
   "source": [
    "syl1+syl2"
   ]
  },
  {
   "cell_type": "code",
   "execution_count": 20,
   "id": "19f90841",
   "metadata": {},
   "outputs": [],
   "source": [
    "w4='It '\n",
    "w5='can '\n",
    "w6='be '"
   ]
  },
  {
   "cell_type": "code",
   "execution_count": 21,
   "id": "686040e1",
   "metadata": {},
   "outputs": [
    {
     "data": {
      "text/plain": [
       "'It can be hard '"
      ]
     },
     "execution_count": 21,
     "metadata": {},
     "output_type": "execute_result"
    }
   ],
   "source": [
    "w4+w5+w6+w3"
   ]
  },
  {
   "cell_type": "code",
   "execution_count": null,
   "id": "d73711f2",
   "metadata": {},
   "outputs": [],
   "source": []
  }
 ],
 "metadata": {
  "kernelspec": {
   "display_name": "Python 3 (ipykernel)",
   "language": "python",
   "name": "python3"
  },
  "language_info": {
   "codemirror_mode": {
    "name": "ipython",
    "version": 3
   },
   "file_extension": ".py",
   "mimetype": "text/x-python",
   "name": "python",
   "nbconvert_exporter": "python",
   "pygments_lexer": "ipython3",
   "version": "3.11.7"
  }
 },
 "nbformat": 4,
 "nbformat_minor": 5
}
